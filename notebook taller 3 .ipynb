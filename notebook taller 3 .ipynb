{
 "cells": [
  {
   "cell_type": "markdown",
   "id": "8f44eda3",
   "metadata": {},
   "source": [
    "# Bases temporales"
   ]
  },
  {
   "cell_type": "markdown",
   "id": "446220bc",
   "metadata": {},
   "source": [
    "este documento contiene ejemplos utilizar la funcion lispace de la libreria numpy para la creacion de bases temporales "
   ]
  },
  {
   "cell_type": "markdown",
   "id": "b6cbc221",
   "metadata": {},
   "source": [
    "# Importar libreria para base temoral"
   ]
  },
  {
   "cell_type": "code",
   "execution_count": 1,
   "id": "da9aff4d",
   "metadata": {},
   "outputs": [],
   "source": [
    "import numpy as np"
   ]
  },
  {
   "cell_type": "markdown",
   "id": "4bff4c80",
   "metadata": {},
   "source": [
    "# utilizando la funcion np.linesace para crear un vector de tiempo"
   ]
  },
  {
   "cell_type": "markdown",
   "id": "a6409770",
   "metadata": {},
   "source": [
    "los datos necesarios para la funcion linespace son: valor inicial, valor final y numero de valores"
   ]
  },
  {
   "cell_type": "code",
   "execution_count": 9,
   "id": "f4fe8bed",
   "metadata": {},
   "outputs": [
    {
     "data": {
      "text/plain": [
       "array([0. , 0.1, 0.2, 0.3, 0.4, 0.5, 0.6, 0.7, 0.8, 0.9, 1. , 1.1, 1.2,\n",
       "       1.3, 1.4, 1.5, 1.6, 1.7, 1.8, 1.9, 2. ])"
      ]
     },
     "execution_count": 9,
     "metadata": {},
     "output_type": "execute_result"
    }
   ],
   "source": [
    "valor_inicial = 0 # momento  en que se define el inicio del tiempo en segundos\n",
    "valor_final = 2 # momento en que terminara el tiempo en segundos\n",
    "numero_datos = 21 # numero de datos de el totoal del tiempo\n",
    "\n",
    "tiempo = np.linspace(valor_inicial, valor_final, numero_datos)\n",
    "tiempo"
   ]
  },
  {
   "cell_type": "markdown",
   "id": "acf63042",
   "metadata": {},
   "source": [
    "### utilizando distintos valores"
   ]
  },
  {
   "cell_type": "code",
   "execution_count": 8,
   "id": "e4f766f6",
   "metadata": {},
   "outputs": [
    {
     "data": {
      "text/plain": [
       "array([ 0.        ,  0.83333333,  1.66666667,  2.5       ,  3.33333333,\n",
       "        4.16666667,  5.        ,  5.83333333,  6.66666667,  7.5       ,\n",
       "        8.33333333,  9.16666667, 10.        , 10.83333333, 11.66666667,\n",
       "       12.5       , 13.33333333, 14.16666667, 15.        ])"
      ]
     },
     "execution_count": 8,
     "metadata": {},
     "output_type": "execute_result"
    }
   ],
   "source": [
    "valor_inicial = 0\n",
    "valor_final = 15\n",
    "numero_datos = 19\n",
    "\n",
    "tiempo_2 = np.linspace(valor_inicial, valor_final, numero_datos)\n",
    "tiempo_2"
   ]
  },
  {
   "cell_type": "code",
   "execution_count": 12,
   "id": "458c2b88",
   "metadata": {},
   "outputs": [
    {
     "data": {
      "text/plain": [
       "array([0. , 0.1, 0.2, 0.3, 0.4, 0.5, 0.6, 0.7, 0.8, 0.9, 1. , 1.1, 1.2,\n",
       "       1.3, 1.4, 1.5, 1.6, 1.7, 1.8, 1.9, 2. ])"
      ]
     },
     "execution_count": 12,
     "metadata": {},
     "output_type": "execute_result"
    }
   ],
   "source": [
    "tiempo_3 = np.linspace(valor_inicial, valor_final, numero_datos)\n",
    "tiempo_3"
   ]
  },
  {
   "cell_type": "markdown",
   "id": "ea1ff72b",
   "metadata": {},
   "source": [
    "# base temporal para una señal biologica de un csv"
   ]
  },
  {
   "cell_type": "code",
   "execution_count": 13,
   "id": "fa7ff94a",
   "metadata": {},
   "outputs": [],
   "source": [
    "import pandas as pd"
   ]
  },
  {
   "cell_type": "code",
   "execution_count": 18,
   "id": "8b107dcc",
   "metadata": {},
   "outputs": [
    {
     "data": {
      "text/html": [
       "<div>\n",
       "<style scoped>\n",
       "    .dataframe tbody tr th:only-of-type {\n",
       "        vertical-align: middle;\n",
       "    }\n",
       "\n",
       "    .dataframe tbody tr th {\n",
       "        vertical-align: top;\n",
       "    }\n",
       "\n",
       "    .dataframe thead th {\n",
       "        text-align: right;\n",
       "    }\n",
       "</style>\n",
       "<table border=\"1\" class=\"dataframe\">\n",
       "  <thead>\n",
       "    <tr style=\"text-align: right;\">\n",
       "      <th></th>\n",
       "      <th>Frame</th>\n",
       "      <th>Sub Frame</th>\n",
       "      <th>GM</th>\n",
       "      <th>SL</th>\n",
       "    </tr>\n",
       "  </thead>\n",
       "  <tbody>\n",
       "    <tr>\n",
       "      <th>0</th>\n",
       "      <td>1</td>\n",
       "      <td>0</td>\n",
       "      <td>-0.016327</td>\n",
       "      <td>0.045509</td>\n",
       "    </tr>\n",
       "    <tr>\n",
       "      <th>1</th>\n",
       "      <td>1</td>\n",
       "      <td>1</td>\n",
       "      <td>-0.016174</td>\n",
       "      <td>0.037422</td>\n",
       "    </tr>\n",
       "    <tr>\n",
       "      <th>2</th>\n",
       "      <td>1</td>\n",
       "      <td>2</td>\n",
       "      <td>-0.010452</td>\n",
       "      <td>0.021973</td>\n",
       "    </tr>\n",
       "    <tr>\n",
       "      <th>3</th>\n",
       "      <td>1</td>\n",
       "      <td>3</td>\n",
       "      <td>-0.006142</td>\n",
       "      <td>-0.009537</td>\n",
       "    </tr>\n",
       "    <tr>\n",
       "      <th>4</th>\n",
       "      <td>1</td>\n",
       "      <td>4</td>\n",
       "      <td>-0.004082</td>\n",
       "      <td>-0.047760</td>\n",
       "    </tr>\n",
       "    <tr>\n",
       "      <th>...</th>\n",
       "      <td>...</td>\n",
       "      <td>...</td>\n",
       "      <td>...</td>\n",
       "      <td>...</td>\n",
       "    </tr>\n",
       "    <tr>\n",
       "      <th>63645</th>\n",
       "      <td>6365</td>\n",
       "      <td>5</td>\n",
       "      <td>0.007095</td>\n",
       "      <td>-0.014191</td>\n",
       "    </tr>\n",
       "    <tr>\n",
       "      <th>63646</th>\n",
       "      <td>6365</td>\n",
       "      <td>6</td>\n",
       "      <td>0.003777</td>\n",
       "      <td>-0.004997</td>\n",
       "    </tr>\n",
       "    <tr>\n",
       "      <th>63647</th>\n",
       "      <td>6365</td>\n",
       "      <td>7</td>\n",
       "      <td>-0.005302</td>\n",
       "      <td>0.004158</td>\n",
       "    </tr>\n",
       "    <tr>\n",
       "      <th>63648</th>\n",
       "      <td>6365</td>\n",
       "      <td>8</td>\n",
       "      <td>-0.030136</td>\n",
       "      <td>0.017815</td>\n",
       "    </tr>\n",
       "    <tr>\n",
       "      <th>63649</th>\n",
       "      <td>6365</td>\n",
       "      <td>9</td>\n",
       "      <td>-0.048943</td>\n",
       "      <td>0.029182</td>\n",
       "    </tr>\n",
       "  </tbody>\n",
       "</table>\n",
       "<p>63650 rows × 4 columns</p>\n",
       "</div>"
      ],
      "text/plain": [
       "       Frame  Sub Frame        GM        SL\n",
       "0          1          0 -0.016327  0.045509\n",
       "1          1          1 -0.016174  0.037422\n",
       "2          1          2 -0.010452  0.021973\n",
       "3          1          3 -0.006142 -0.009537\n",
       "4          1          4 -0.004082 -0.047760\n",
       "...      ...        ...       ...       ...\n",
       "63645   6365          5  0.007095 -0.014191\n",
       "63646   6365          6  0.003777 -0.004997\n",
       "63647   6365          7 -0.005302  0.004158\n",
       "63648   6365          8 -0.030136  0.017815\n",
       "63649   6365          9 -0.048943  0.029182\n",
       "\n",
       "[63650 rows x 4 columns]"
      ]
     },
     "execution_count": 18,
     "metadata": {},
     "output_type": "execute_result"
    }
   ],
   "source": [
    "data_emg = pd.read_csv('C:/users/totuf/desktop/awa/EloEMG.csv', sep=';')\n",
    "GM = data_emg.iloc[:,2].values\n",
    "data_emg"
   ]
  },
  {
   "cell_type": "code",
   "execution_count": 28,
   "id": "cbd104d6",
   "metadata": {},
   "outputs": [
    {
     "name": "stdout",
     "output_type": "stream",
     "text": [
      "[0.00000000e+00 1.00001571e-03 2.00003142e-03 ... 6.36480000e+01\n",
      " 6.36490000e+01 6.36500000e+01]\n"
     ]
    }
   ],
   "source": [
    "valor_inicial = 0\n",
    "valor_final = len(GM)/1000\n",
    "numero_datos = len(GM)\n",
    "\n",
    "tiempo_gm = np.linspace(valor_inicial, valor_final, numero_datos)\n",
    "print(tiempo_gm)"
   ]
  },
  {
   "cell_type": "markdown",
   "id": "e96f6909",
   "metadata": {},
   "source": [
    "# siguente titulo"
   ]
  },
  {
   "cell_type": "markdown",
   "id": "f933dff8",
   "metadata": {},
   "source": [
    "ahora tocaria seguir con la parte de la grafuicacion o tmb se podria hacer el orden de: graficacion, basestemporales y graficacion con bases temporales.\n",
    "sio la otra opcion es separar totalmente los temas y y al graficar solo explicar que el eje x lo usamos comunmente como el tiempo y que en eso calza nuestra base temporal"
   ]
  },
  {
   "cell_type": "code",
   "execution_count": null,
   "id": "87d9bbbd",
   "metadata": {},
   "outputs": [],
   "source": []
  }
 ],
 "metadata": {
  "kernelspec": {
   "display_name": "Python 3",
   "language": "python",
   "name": "python3"
  },
  "language_info": {
   "codemirror_mode": {
    "name": "ipython",
    "version": 3
   },
   "file_extension": ".py",
   "mimetype": "text/x-python",
   "name": "python",
   "nbconvert_exporter": "python",
   "pygments_lexer": "ipython3",
   "version": "3.8.8"
  }
 },
 "nbformat": 4,
 "nbformat_minor": 5
}
